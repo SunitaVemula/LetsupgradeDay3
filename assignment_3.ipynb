{
 "cells": [
  {
   "cell_type": "markdown",
   "metadata": {},
   "source": [
    "# Finding out grade using if.. elif.. and else:"
   ]
  },
  {
   "cell_type": "code",
   "execution_count": 1,
   "metadata": {},
   "outputs": [
    {
     "name": "stdout",
     "output_type": "stream",
     "text": [
      "Please Enter your marks:96\n",
      "Your Grade is A\n"
     ]
    }
   ],
   "source": [
    "marks=int(input(\"Please Enter your marks:\"))\n",
    "\n",
    "if marks >85 and marks <=100:\n",
    "    print(\"Your Grade is A\")\n",
    "elif marks >75 and marks <=85:\n",
    "    print(\"Your Grade is B\")\n",
    "elif marks >65 and marks <=75:\n",
    "    print(\"Your Grade is c\")\n",
    "elif marks >50 and marks<=65:\n",
    "    print(\"Your Grade is D\")\n",
    "elif marks >34 and marks<=50:\n",
    "    print(\"Your Grade is E\")\n",
    "else:\n",
    "    print(\"Failed!!\")"
   ]
  },
  {
   "cell_type": "code",
   "execution_count": null,
   "metadata": {},
   "outputs": [],
   "source": []
  },
  {
   "cell_type": "markdown",
   "metadata": {},
   "source": [
    "# Guessing team India score in 20-20 cricket"
   ]
  },
  {
   "cell_type": "code",
   "execution_count": 8,
   "metadata": {},
   "outputs": [
    {
     "name": "stdout",
     "output_type": "stream",
     "text": [
      "Random Score:  140\n",
      "Please enter your guessing score:133\n",
      "Close by, you are True Indian Fan!\n"
     ]
    }
   ],
   "source": [
    "import random\n",
    "\n",
    "ran_score = random.randint(1,250)\n",
    "print(\"Random Score: \", ran_score)\n",
    "\n",
    "player_guess = int(input(\"Please enter your guessing score:\"))\n",
    "\n",
    "if player_guess<1 or player_guess>250:\n",
    "    print(\"Please reduce your expectations for 20-20\")\n",
    "elif (player_guess>ran_score) and (player_guess-ran_score<=10) or (ran_score>player_guess and ran_score-player_guess<=10):\n",
    "    print(\"Close by, you are True Indian Fan!\")\n",
    "else:\n",
    "    print(\"You don't watch that match!?\")"
   ]
  },
  {
   "cell_type": "code",
   "execution_count": null,
   "metadata": {},
   "outputs": [],
   "source": []
  }
 ],
 "metadata": {
  "kernelspec": {
   "display_name": "Python 3",
   "language": "python",
   "name": "python3"
  },
  "language_info": {
   "codemirror_mode": {
    "name": "ipython",
    "version": 3
   },
   "file_extension": ".py",
   "mimetype": "text/x-python",
   "name": "python",
   "nbconvert_exporter": "python",
   "pygments_lexer": "ipython3",
   "version": "3.6.8"
  }
 },
 "nbformat": 4,
 "nbformat_minor": 2
}
